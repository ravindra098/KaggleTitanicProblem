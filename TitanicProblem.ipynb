{
  "nbformat": 4,
  "nbformat_minor": 0,
  "metadata": {
    "colab": {
      "name": "TitanicProblem.ipynb",
      "provenance": []
    },
    "kernelspec": {
      "name": "python3",
      "display_name": "Python 3"
    },
    "accelerator": "GPU"
  },
  "cells": [
    {
      "cell_type": "code",
      "metadata": {
        "id": "In4vnS19aEp7",
        "colab_type": "code",
        "colab": {}
      },
      "source": [
        "import numpy as np\n",
        "import pandas as pd\n",
        "import matplotlib.pyplot as plt\n",
        "import glob\n",
        "import sklearn\n",
        "import seaborn as sns\n",
        "from sklearn.model_selection import train_test_split\n",
        "from sklearn.preprocessing import LabelEncoder\n",
        "from sklearn.ensemble import RandomForestClassifier\n",
        "from sklearn.feature_selection import SelectFromModel\n",
        "from sklearn.model_selection import train_test_split\n",
        "import matplotlib\n",
        "matplotlib.style.use('seaborn')\n"
      ],
      "execution_count": 0,
      "outputs": []
    },
    {
      "cell_type": "code",
      "metadata": {
        "id": "W4lcyMBHacp1",
        "colab_type": "code",
        "colab": {}
      },
      "source": [
        "df = pd.read_csv('train.csv')"
      ],
      "execution_count": 0,
      "outputs": []
    },
    {
      "cell_type": "code",
      "metadata": {
        "id": "TqmqPM3Oa7FE",
        "colab_type": "code",
        "colab": {
          "base_uri": "https://localhost:8080/",
          "height": 297
        },
        "outputId": "c70c1d3f-141e-4cdb-807f-b078be706cc1"
      },
      "source": [
        "#EXPLORATORY DATA ANALYSIS\n",
        "#SibSp: number of siblings and spouses traveling with \n",
        "#Parch: number of parents and children traveling with \n",
        "#The embarkation : It has three possible values S,C,Q\n",
        "df['Age'].fillna(df['Age'].median(), inplace=True)\n",
        "df.describe()"
      ],
      "execution_count": 4,
      "outputs": [
        {
          "output_type": "execute_result",
          "data": {
            "text/html": [
              "<div>\n",
              "<style scoped>\n",
              "    .dataframe tbody tr th:only-of-type {\n",
              "        vertical-align: middle;\n",
              "    }\n",
              "\n",
              "    .dataframe tbody tr th {\n",
              "        vertical-align: top;\n",
              "    }\n",
              "\n",
              "    .dataframe thead th {\n",
              "        text-align: right;\n",
              "    }\n",
              "</style>\n",
              "<table border=\"1\" class=\"dataframe\">\n",
              "  <thead>\n",
              "    <tr style=\"text-align: right;\">\n",
              "      <th></th>\n",
              "      <th>PassengerId</th>\n",
              "      <th>Survived</th>\n",
              "      <th>Pclass</th>\n",
              "      <th>Age</th>\n",
              "      <th>SibSp</th>\n",
              "      <th>Parch</th>\n",
              "      <th>Fare</th>\n",
              "    </tr>\n",
              "  </thead>\n",
              "  <tbody>\n",
              "    <tr>\n",
              "      <th>count</th>\n",
              "      <td>891.000000</td>\n",
              "      <td>891.000000</td>\n",
              "      <td>891.000000</td>\n",
              "      <td>891.000000</td>\n",
              "      <td>891.000000</td>\n",
              "      <td>891.000000</td>\n",
              "      <td>891.000000</td>\n",
              "    </tr>\n",
              "    <tr>\n",
              "      <th>mean</th>\n",
              "      <td>446.000000</td>\n",
              "      <td>0.383838</td>\n",
              "      <td>2.308642</td>\n",
              "      <td>29.361582</td>\n",
              "      <td>0.523008</td>\n",
              "      <td>0.381594</td>\n",
              "      <td>32.204208</td>\n",
              "    </tr>\n",
              "    <tr>\n",
              "      <th>std</th>\n",
              "      <td>257.353842</td>\n",
              "      <td>0.486592</td>\n",
              "      <td>0.836071</td>\n",
              "      <td>13.019697</td>\n",
              "      <td>1.102743</td>\n",
              "      <td>0.806057</td>\n",
              "      <td>49.693429</td>\n",
              "    </tr>\n",
              "    <tr>\n",
              "      <th>min</th>\n",
              "      <td>1.000000</td>\n",
              "      <td>0.000000</td>\n",
              "      <td>1.000000</td>\n",
              "      <td>0.420000</td>\n",
              "      <td>0.000000</td>\n",
              "      <td>0.000000</td>\n",
              "      <td>0.000000</td>\n",
              "    </tr>\n",
              "    <tr>\n",
              "      <th>25%</th>\n",
              "      <td>223.500000</td>\n",
              "      <td>0.000000</td>\n",
              "      <td>2.000000</td>\n",
              "      <td>22.000000</td>\n",
              "      <td>0.000000</td>\n",
              "      <td>0.000000</td>\n",
              "      <td>7.910400</td>\n",
              "    </tr>\n",
              "    <tr>\n",
              "      <th>50%</th>\n",
              "      <td>446.000000</td>\n",
              "      <td>0.000000</td>\n",
              "      <td>3.000000</td>\n",
              "      <td>28.000000</td>\n",
              "      <td>0.000000</td>\n",
              "      <td>0.000000</td>\n",
              "      <td>14.454200</td>\n",
              "    </tr>\n",
              "    <tr>\n",
              "      <th>75%</th>\n",
              "      <td>668.500000</td>\n",
              "      <td>1.000000</td>\n",
              "      <td>3.000000</td>\n",
              "      <td>35.000000</td>\n",
              "      <td>1.000000</td>\n",
              "      <td>0.000000</td>\n",
              "      <td>31.000000</td>\n",
              "    </tr>\n",
              "    <tr>\n",
              "      <th>max</th>\n",
              "      <td>891.000000</td>\n",
              "      <td>1.000000</td>\n",
              "      <td>3.000000</td>\n",
              "      <td>80.000000</td>\n",
              "      <td>8.000000</td>\n",
              "      <td>6.000000</td>\n",
              "      <td>512.329200</td>\n",
              "    </tr>\n",
              "  </tbody>\n",
              "</table>\n",
              "</div>"
            ],
            "text/plain": [
              "       PassengerId    Survived      Pclass  ...       SibSp       Parch        Fare\n",
              "count   891.000000  891.000000  891.000000  ...  891.000000  891.000000  891.000000\n",
              "mean    446.000000    0.383838    2.308642  ...    0.523008    0.381594   32.204208\n",
              "std     257.353842    0.486592    0.836071  ...    1.102743    0.806057   49.693429\n",
              "min       1.000000    0.000000    1.000000  ...    0.000000    0.000000    0.000000\n",
              "25%     223.500000    0.000000    2.000000  ...    0.000000    0.000000    7.910400\n",
              "50%     446.000000    0.000000    3.000000  ...    0.000000    0.000000   14.454200\n",
              "75%     668.500000    1.000000    3.000000  ...    1.000000    0.000000   31.000000\n",
              "max     891.000000    1.000000    3.000000  ...    8.000000    6.000000  512.329200\n",
              "\n",
              "[8 rows x 7 columns]"
            ]
          },
          "metadata": {
            "tags": []
          },
          "execution_count": 4
        }
      ]
    },
    {
      "cell_type": "code",
      "metadata": {
        "id": "3K3YYf5cbAIv",
        "colab_type": "code",
        "colab": {
          "base_uri": "https://localhost:8080/",
          "height": 393
        },
        "outputId": "94fcda0b-f60f-458a-8cb4-cfb8d30f2539"
      },
      "source": [
        "sns.countplot(x= 'Sex', hue='Survived', data=df)\n",
        "plt.title(\"Women and children first !\")"
      ],
      "execution_count": 5,
      "outputs": [
        {
          "output_type": "execute_result",
          "data": {
            "text/plain": [
              "Text(0.5, 1.0, 'Women and children first !')"
            ]
          },
          "metadata": {
            "tags": []
          },
          "execution_count": 5
        },
        {
          "output_type": "display_data",
          "data": {
            "image/png": "[encoded data removed]",
            "text/plain": [
              "<Figure size 576x396 with 1 Axes>"
            ]
          },
          "metadata": {
            "tags": []
          }
        }
      ]
    },
    {
      "cell_type": "code",
      "metadata": {
        "id": "jc9NOCZYbLVk",
        "colab_type": "code",
        "colab": {
          "base_uri": "https://localhost:8080/",
          "height": 549
        },
        "outputId": "b0c2af37-a746-4ae8-b857-af4ac37f1f8f"
      },
      "source": [
        "figure = plt.figure(figsize=(17,8))\n",
        "plt.hist([df[df['Survived']==1]['Age'], df[df['Survived']==0]['Age']], stacked=True, color = ['g','r'],\n",
        "         bins = 30, label = ['Survived','Dead'])\n",
        "plt.xlabel('Age')\n",
        "plt.ylabel('Number of passengers')\n",
        "plt.legend()\n",
        "plt.title(\"Women and children first !\")"
      ],
      "execution_count": 6,
      "outputs": [
        {
          "output_type": "execute_result",
          "data": {
            "text/plain": [
              "Text(0.5, 1.0, 'Women and children first !')"
            ]
          },
          "metadata": {
            "tags": []
          },
          "execution_count": 6
        },
        {
          "output_type": "display_data",
          "data": {
            "image/png": "[encoded data removed]",
            "text/plain": [
              "<Figure size 1224x576 with 1 Axes>"
            ]
          },
          "metadata": {
            "tags": []
          }
        }
      ]
    },
    {
      "cell_type": "code",
      "metadata": {
        "id": "VzIfyQRdbP2a",
        "colab_type": "code",
        "colab": {
          "base_uri": "https://localhost:8080/",
          "height": 514
        },
        "outputId": "ea62a141-4cce-414d-fb15-c90ce80552f1"
      },
      "source": [
        "figure = plt.figure(figsize=(15,8))\n",
        "plt.hist([df[df['Survived']==1]['Fare'],\n",
        "          df[df['Survived']==0]['Fare']], color = ['g','r'],\n",
        "         bins = 30,label = ['Survived','Dead'])\n",
        "plt.xlabel('Fare')\n",
        "plt.xlim([0,300])\n",
        "plt.ylabel('Number of passengers')\n",
        "plt.legend()"
      ],
      "execution_count": 7,
      "outputs": [
        {
          "output_type": "execute_result",
          "data": {
            "text/plain": [
              "<matplotlib.legend.Legend at 0x7f27b37ecdd8>"
            ]
          },
          "metadata": {
            "tags": []
          },
          "execution_count": 7
        },
        {
          "output_type": "display_data",
          "data": {
            "image/png": "[encoded data removed]",
            "text/plain": [
              "<Figure size 1080x576 with 1 Axes>"
            ]
          },
          "metadata": {
            "tags": []
          }
        }
      ]
    },
    {
      "cell_type": "code",
      "metadata": {
        "id": "x2UyUoHlbVor",
        "colab_type": "code",
        "colab": {
          "base_uri": "https://localhost:8080/",
          "height": 518
        },
        "outputId": "f37e7e1b-0921-4991-beee-6f11ea225d30"
      },
      "source": [
        "plt.figure(figsize=(15,8))\n",
        "ax = plt.subplot()\n",
        "ax.scatter(df[df['Survived']==1]['Age'],df[df['Survived']==1]['Fare'], c='green',s=40)\n",
        "ax.scatter(df[df['Survived']==0]['Age'],df[df['Survived']==0]['Fare'], c='red',s=40)\n",
        "ax.set_xlabel('Age')\n",
        "ax.set_ylabel('Fare')\n",
        "ax.set_ylim([0,300])\n",
        "ax.legend(('survived','dead'),scatterpoints=1,loc='upper right',fontsize=15,)"
      ],
      "execution_count": 8,
      "outputs": [
        {
          "output_type": "execute_result",
          "data": {
            "text/plain": [
              "<matplotlib.legend.Legend at 0x7f27b30ca518>"
            ]
          },
          "metadata": {
            "tags": []
          },
          "execution_count": 8
        },
        {
          "output_type": "display_data",
          "data": {
            "image/png": "[encoded data removed]",
            "text/plain": [
              "<Figure size 1080x576 with 1 Axes>"
            ]
          },
          "metadata": {
            "tags": []
          }
        }
      ]
    },
    {
      "cell_type": "code",
      "metadata": {
        "id": "ijAIHXIVbaJu",
        "colab_type": "code",
        "colab": {
          "base_uri": "https://localhost:8080/",
          "height": 378
        },
        "outputId": "ccfad523-dd62-44ca-8488-13bcc69d0190"
      },
      "source": [
        "sns.countplot(x= 'Embarked', hue='Survived', data=df)"
      ],
      "execution_count": 9,
      "outputs": [
        {
          "output_type": "execute_result",
          "data": {
            "text/plain": [
              "<matplotlib.axes._subplots.AxesSubplot at 0x7f27b3803c18>"
            ]
          },
          "metadata": {
            "tags": []
          },
          "execution_count": 9
        },
        {
          "output_type": "display_data",
          "data": {
            "image/png": "[encoded data removed]",
            "text/plain": [
              "<Figure size 576x396 with 1 Axes>"
            ]
          },
          "metadata": {
            "tags": []
          }
        }
      ]
    },
    {
      "cell_type": "code",
      "metadata": {
        "id": "6_ZIwbtEbeGI",
        "colab_type": "code",
        "colab": {}
      },
      "source": [
        "#FEATURE ENGINEERING\n",
        "train = pd.read_csv('train.csv')\n",
        "test = pd.read_csv('test.csv') \n",
        "targets = train.Survived\n",
        "train.drop('Survived', 1, inplace=True)\n",
        "combined = train.append(test)\n",
        "combined.reset_index(inplace=True)\n",
        "combined.drop('index', inplace=True, axis=1)"
      ],
      "execution_count": 0,
      "outputs": []
    },
    {
      "cell_type": "code",
      "metadata": {
        "id": "_vfYPIkUbmH_",
        "colab_type": "code",
        "colab": {}
      },
      "source": [
        "#Extracting title from the names\n",
        "Title_Dictionary = {\"Capt\":       \"Officer\",\n",
        "                    \"Col\":        \"Officer\",\n",
        "                    \"Major\":      \"Officer\",\n",
        "                    \"Jonkheer\":   \"Royalty\",\n",
        "                    \"Don\":        \"Royalty\",\n",
        "                    \"Sir\" :       \"Royalty\",\n",
        "                    \"Dr\":         \"Officer\",\n",
        "                    \"Rev\":        \"Officer\",\n",
        "                    \"the Countess\":\"Royalty\",\n",
        "                    \"Dona\":       \"Royalty\",\n",
        "                    \"Mme\":        \"Mrs\",\n",
        "                    \"Mlle\":       \"Miss\",\n",
        "                    \"Ms\":         \"Mrs\",\n",
        "                    \"Lady\" :      \"Royalty\"}\n",
        "combined['Title'] = combined['Name'].map(lambda name:name.split(',')[1].split('.')[0].strip())\n",
        "combined['Title'] = combined.Title.apply(lambda x:Title_Dictionary.get(x,x))"
      ],
      "execution_count": 0,
      "outputs": []
    },
    {
      "cell_type": "code",
      "metadata": {
        "id": "VYxXRGmzbx88",
        "colab_type": "code",
        "colab": {}
      },
      "source": [
        "grouped_median_train = combined.iloc[:len(train)].groupby(['Sex','Pclass','Title']).median()\n",
        "grouped_median_test = combined.iloc[len(train):].groupby(['Sex','Pclass','Title']).median()"
      ],
      "execution_count": 0,
      "outputs": []
    },
    {
      "cell_type": "code",
      "metadata": {
        "id": "pPoK9IIxb1Wc",
        "colab_type": "code",
        "colab": {}
      },
      "source": [
        "def fillAges(row, grouped_median):\n",
        "    if np.isnan(row['Age']):\n",
        "        return grouped_median.loc[row['Sex'], row['Pclass'], row['Title']]['Age']\n",
        "    else:\n",
        "        return row['Age']"
      ],
      "execution_count": 0,
      "outputs": []
    },
    {
      "cell_type": "code",
      "metadata": {
        "id": "gWtHiN1Mb4BU",
        "colab_type": "code",
        "colab": {
          "base_uri": "https://localhost:8080/",
          "height": 241
        },
        "outputId": "e2028081-560c-4b96-9ba0-94ba15a4cd2e"
      },
      "source": [
        "# Fills in the missing age in combined based on these different attributes.\n",
        "combined.iloc[:len(train)]['Age'] = combined.iloc[:len(train)].apply(lambda r : fillAges(r, grouped_median_train), axis=1)\n",
        "combined.iloc[len(train):]['Age'] = combined.iloc[len(train):].apply(lambda r : fillAges(r, grouped_median_test), axis=1)"
      ],
      "execution_count": 27,
      "outputs": [
        {
          "output_type": "stream",
          "text": [
            "/usr/local/lib/python3.6/dist-packages/ipykernel_launcher.py:1: SettingWithCopyWarning: \n",
            "A value is trying to be set on a copy of a slice from a DataFrame.\n",
            "Try using .loc[row_indexer,col_indexer] = value instead\n",
            "\n",
            "See the caveats in the documentation: http://pandas.pydata.org/pandas-docs/stable/user_guide/indexing.html#returning-a-view-versus-a-copy\n",
            "  \"\"\"Entry point for launching an IPython kernel.\n",
            "/usr/local/lib/python3.6/dist-packages/ipykernel_launcher.py:2: SettingWithCopyWarning: \n",
            "A value is trying to be set on a copy of a slice from a DataFrame.\n",
            "Try using .loc[row_indexer,col_indexer] = value instead\n",
            "\n",
            "See the caveats in the documentation: http://pandas.pydata.org/pandas-docs/stable/user_guide/indexing.html#returning-a-view-versus-a-copy\n",
            "  \n"
          ],
          "name": "stderr"
        }
      ]
    },
    {
      "cell_type": "code",
      "metadata": {
        "id": "YCAAsWR6b7L0",
        "colab_type": "code",
        "colab": {}
      },
      "source": [
        "combined.drop('Name', axis=1, inplace=True)\n",
        "le_title = LabelEncoder()\n",
        "combined['Title'] = le_title.fit_transform(combined['Title'])"
      ],
      "execution_count": 0,
      "outputs": []
    },
    {
      "cell_type": "code",
      "metadata": {
        "id": "NscsP6UucYMA",
        "colab_type": "code",
        "colab": {}
      },
      "source": [
        "# Fills the fare by the mean\n",
        "combined.Fare.fillna(combined.Fare.mean(), inplace=True)\n",
        "\n",
        "# Fills the embarked by the most common\n",
        "combined.Embarked.fillna('S', inplace=True)\n",
        "\n",
        "le_embarked = LabelEncoder()\n",
        "combined['Embarked'] = le_embarked.fit_transform(combined['Embarked'])\n",
        "\n",
        "# Replacing missing cabins with U (for Uknown)\n",
        "combined.Cabin.fillna('U', inplace=True)\n",
        "# mapping each Cabin value with the cabin letter\n",
        "combined['Cabin'] = combined['Cabin'].map(lambda c : c[0])\n",
        "\n",
        "le_cabin = LabelEncoder()\n",
        "combined['Cabin'] = le_cabin.fit_transform(combined['Cabin'])\n",
        "\n",
        "# Encoder for Sex\n",
        "le_sex = LabelEncoder()\n",
        "combined['Sex'] = le_sex.fit_transform(combined['Sex'])"
      ],
      "execution_count": 0,
      "outputs": []
    },
    {
      "cell_type": "code",
      "metadata": {
        "id": "24nKEyvuccJW",
        "colab_type": "code",
        "colab": {}
      },
      "source": [
        "def cleanTicket(ticket):\n",
        "    ticket = ticket.replace('.','')\n",
        "    ticket = ticket.replace('/','')\n",
        "    ticket = ticket.split()\n",
        "    ticket = list(map(lambda t : t.strip(), ticket))\n",
        "    ticket = list(filter(lambda t : not t.isdigit(), ticket))\n",
        "    if len(ticket) > 0:\n",
        "        return ticket[0]\n",
        "    else: \n",
        "        return 'XXX'"
      ],
      "execution_count": 0,
      "outputs": []
    },
    {
      "cell_type": "code",
      "metadata": {
        "id": "1RsOGVTldI7f",
        "colab_type": "code",
        "colab": {}
      },
      "source": [
        "combined['Ticket'] = combined['Ticket'].apply(cleanTicket)\n",
        "le_ticket = LabelEncoder()\n",
        "combined['Ticket'] = le_ticket.fit_transform(combined['Ticket'])"
      ],
      "execution_count": 0,
      "outputs": []
    },
    {
      "cell_type": "code",
      "metadata": {
        "id": "0AAgae5GdMYX",
        "colab_type": "code",
        "colab": {}
      },
      "source": [
        "#MODELING\n",
        "X_train = combined.head(len(train))\n",
        "X_test = combined[len(train):]\n",
        "y_train = df.Survived"
      ],
      "execution_count": 0,
      "outputs": []
    },
    {
      "cell_type": "code",
      "metadata": {
        "id": "fX4g3XI4dP4b",
        "colab_type": "code",
        "colab": {}
      },
      "source": [
        "def compute_score(clf, X, y, scoring='accuracy'):\n",
        "    xval = cross_val_score(clf, X, y, cv = 5, scoring=scoring)\n",
        "    return np.mean(xval)"
      ],
      "execution_count": 0,
      "outputs": []
    },
    {
      "cell_type": "code",
      "metadata": {
        "id": "BdPDJvyxdbFY",
        "colab_type": "code",
        "colab": {}
      },
      "source": [
        "clf = RandomForestClassifier(n_estimators=50, max_features='sqrt')\n",
        "clf = clf.fit(X_train, y_train)"
      ],
      "execution_count": 0,
      "outputs": []
    },
    {
      "cell_type": "code",
      "metadata": {
        "id": "-qT49sB8ddyI",
        "colab_type": "code",
        "colab": {
          "base_uri": "https://localhost:8080/",
          "height": 34
        },
        "outputId": "feb85924-b3e2-46fa-fc8c-0ce4be55495b"
      },
      "source": [
        "# feat_imp = dict(zip(X_train.columns[np.argsort(clf.feature_importances_)[::-1]],\n",
        "#     np.sort(clf.feature_importances_)[::-1]))\n",
        "# new_cols = [k for k,v in feat_imp.items() if v > 0.02]\n",
        "# train_reduced = X_train[new_cols]\n",
        "# test_reduced = X_test[new_cols]\n",
        "\n",
        "model = SelectFromModel(clf, prefit=True)\n",
        "train_reduced = model.transform(X_train)\n",
        "test_reduced = model.transform(X_test)\n",
        "train_reduced.shape, X_train.shape"
      ],
      "execution_count": 37,
      "outputs": [
        {
          "output_type": "execute_result",
          "data": {
            "text/plain": [
              "((891, 5), (891, 11))"
            ]
          },
          "metadata": {
            "tags": []
          },
          "execution_count": 37
        }
      ]
    },
    {
      "cell_type": "code",
      "metadata": {
        "id": "76RF0YhpdhBj",
        "colab_type": "code",
        "colab": {}
      },
      "source": [
        "\n",
        "from sklearn.model_selection import cross_val_score\n",
        "from sklearn.model_selection import train_test_split \n",
        "from sklearn.model_selection import GridSearchCV\n",
        "\n",
        "# turn run_gs to True if you want to run the gridsearch again.\n",
        "run_gs = False\n",
        "\n",
        "if run_gs:\n",
        "    parameter_grid = {\n",
        "                 'max_depth' : [4, 6, 8],\n",
        "                 'n_estimators': [50, 10],\n",
        "                 'max_features': ['sqrt', 'auto', 'log2'],\n",
        "                 'min_samples_split': [2, 3, 10],\n",
        "                 'min_samples_leaf': [1, 3, 10],\n",
        "                 'bootstrap': [True, False],\n",
        "                 }\n",
        "    forest = RandomForestClassifier()\n",
        "    cross_validation = StratifiedKFold(y_train, n_folds=5)\n",
        "\n",
        "    grid_search = GridSearchCV(forest,\n",
        "                               scoring='accuracy',\n",
        "                               param_grid=parameter_grid,\n",
        "                               cv=cross_validation)\n",
        "\n",
        "    grid_search.fit(train_reduced, y_train)\n",
        "    model = grid_search\n",
        "    parameters = grid_search.best_params_\n",
        "\n",
        "    print('Best score: {}'.format(grid_search.best_score_))\n",
        "    print('Best parameters: {}'.format(grid_search.best_params_))\n",
        "else: \n",
        "    parameters = {'bootstrap': False, 'min_samples_leaf': 3, 'n_estimators': 50, \n",
        "                  'min_samples_split': 10, 'max_features': 'sqrt', 'max_depth': 6}\n",
        "    model = RandomForestClassifier(**parameters)\n",
        "    model.fit(train_reduced, y_train)"
      ],
      "execution_count": 0,
      "outputs": []
    },
    {
      "cell_type": "code",
      "metadata": {
        "id": "MYQllmJ2dtBO",
        "colab_type": "code",
        "colab": {
          "base_uri": "https://localhost:8080/",
          "height": 34
        },
        "outputId": "d99a99ec-0ed1-4376-a4d3-33199f2e022c"
      },
      "source": [
        "compute_score(model, train_reduced, y_train, scoring='accuracy')"
      ],
      "execution_count": 43,
      "outputs": [
        {
          "output_type": "execute_result",
          "data": {
            "text/plain": [
              "0.7722616282719226"
            ]
          },
          "metadata": {
            "tags": []
          },
          "execution_count": 43
        }
      ]
    },
    {
      "cell_type": "code",
      "metadata": {
        "id": "ow1yvbl0ehfN",
        "colab_type": "code",
        "colab": {}
      },
      "source": [
        "submission = model.predict(test_reduced).astype(int)\n",
        "df_submission = pd.DataFrame()\n",
        "aux = pd.read_csv('test.csv')\n",
        "df_submission['PassengerId'] = aux['PassengerId']\n",
        "df_submission['Survived'] = output\n",
        "df_submission[['PassengerId','Survived']].to_csv('submission.csv',index=False)"
      ],
      "execution_count": 0,
      "outputs": []
    },
    {
      "cell_type": "code",
      "metadata": {
        "id": "-f6KYND0fCVq",
        "colab_type": "code",
        "colab": {
          "base_uri": "https://localhost:8080/",
          "height": 34
        },
        "outputId": "77be6aef-c2e0-4f7e-aa70-f7a881821bce"
      },
      "source": [
        "model.score(train_reduced, y_train)"
      ],
      "execution_count": 50,
      "outputs": [
        {
          "output_type": "execute_result",
          "data": {
            "text/plain": [
              "0.8372615039281706"
            ]
          },
          "metadata": {
            "tags": []
          },
          "execution_count": 50
        }
      ]
    },
    {
      "cell_type": "code",
      "metadata": {
        "id": "Wugvci-tfbtc",
        "colab_type": "code",
        "colab": {}
      },
      "source": [
        ""
      ],
      "execution_count": 0,
      "outputs": []
    }
  ]
}